{
 "cells": [
  {
   "cell_type": "markdown",
   "id": "1c90a6a4",
   "metadata": {},
   "source": [
    "**© 2023 Scott A. Bruce. Do not distribute.**\n",
    "\n",
    "# 1. SQL Alchemy to load data into Python"
   ]
  },
  {
   "cell_type": "code",
   "execution_count": null,
   "id": "bc43e2e1",
   "metadata": {},
   "outputs": [],
   "source": [
    "from sqlalchemy import create_engine\n",
    "import pandas as pd\n",
    "from IPython.core.interactiveshell import InteractiveShell\n",
    "InteractiveShell.ast_node_interactivity = \"all\""
   ]
  },
  {
   "cell_type": "code",
   "execution_count": null,
   "id": "8d1f6f08",
   "metadata": {},
   "outputs": [],
   "source": [
    "%matplotlib inline"
   ]
  },
  {
   "cell_type": "code",
   "execution_count": null,
   "id": "86e8f22a",
   "metadata": {},
   "outputs": [],
   "source": [
    "cnxn_string = (\"postgresql+psycopg2://{username}:{pswd}\"\n",
    "              \"@{host}:{port}/{database}\")\n",
    "print(cnxn_string)"
   ]
  },
  {
   "cell_type": "code",
   "execution_count": null,
   "id": "5493972c",
   "metadata": {},
   "outputs": [],
   "source": [
    "engine = create_engine(cnxn_string.format(\n",
    "    username=\"postgres\",\n",
    "    pswd=\"behappy\",\n",
    "    host=\"postgres\",\n",
    "    port=5432,\n",
    "    database=\"sqlda\"))\n",
    "engine.execute(\"SELECT * FROM customers LIMIT 2;\").fetchall()"
   ]
  },
  {
   "cell_type": "code",
   "execution_count": null,
   "id": "e6cc4cb3",
   "metadata": {},
   "outputs": [],
   "source": [
    "customers_data = pd.read_sql_table('customers',engine)"
   ]
  },
  {
   "cell_type": "code",
   "execution_count": null,
   "id": "94767bcf",
   "metadata": {},
   "outputs": [],
   "source": [
    "query = \"\"\"select city, count(*) as number_of_customers,\n",
    "           count(nullif(gender,'M')) as female,\n",
    "           count(nullif(gender,'F')) as male\n",
    "           from customers\n",
    "           where city is not null\n",
    "           group by city\n",
    "           order by number_of_customers desc\n",
    "           limit 10\"\"\""
   ]
  },
  {
   "cell_type": "code",
   "execution_count": null,
   "id": "f9e1a979",
   "metadata": {},
   "outputs": [],
   "source": [
    "top_cities_data = pd.read_sql_query(query,engine)"
   ]
  },
  {
   "cell_type": "code",
   "execution_count": null,
   "id": "462c4404",
   "metadata": {},
   "outputs": [],
   "source": [
    "top_cities_data"
   ]
  },
  {
   "cell_type": "code",
   "execution_count": null,
   "id": "064268db",
   "metadata": {},
   "outputs": [],
   "source": [
    "ax = top_cities_data.plot.bar('city',y=['female','male'],\n",
    "                              title='Number of Customers by Gender and City')"
   ]
  },
  {
   "cell_type": "markdown",
   "id": "6a63840a",
   "metadata": {},
   "source": [
    "# 2. Writing data to database using Python"
   ]
  },
  {
   "cell_type": "code",
   "execution_count": null,
   "id": "2e6b18b6",
   "metadata": {},
   "outputs": [],
   "source": [
    "top_cities_data.to_sql('top_cities_data',engine,\n",
    "                       index=False,if_exists='replace')"
   ]
  },
  {
   "cell_type": "code",
   "execution_count": null,
   "id": "527a00c8",
   "metadata": {},
   "outputs": [],
   "source": [
    "#get help using the help function\n",
    "help('pandas.DataFrame.to_sql')"
   ]
  },
  {
   "cell_type": "code",
   "execution_count": null,
   "id": "a061b907",
   "metadata": {},
   "outputs": [],
   "source": [
    "#but what if you can't remember the name of the function?\n",
    "\n",
    "#using tab and shift+tab for help in Jupyter notebooks\n",
    "pd.pandas.DataFrame.\n",
    "#now press tab, which will bring up all possible functions, so you can find the one you are looking for\n",
    "pd.pandas.DataFrame.to_sql\n",
    "#now press shift+tab, which will bring up the help file and input arguments (in case you forget them)"
   ]
  },
  {
   "cell_type": "markdown",
   "id": "66d59d33",
   "metadata": {},
   "source": [
    "# 3. Reading and writing CSV files with Python"
   ]
  },
  {
   "cell_type": "code",
   "execution_count": null,
   "id": "96c3c7f3",
   "metadata": {},
   "outputs": [],
   "source": [
    "top_cities_data.to_csv('top_cities_analysis.csv',index=False)\n",
    "my_data=pd.read_csv('top_cities_analysis.csv')\n",
    "my_data"
   ]
  },
  {
   "cell_type": "code",
   "execution_count": null,
   "id": "45134f59",
   "metadata": {},
   "outputs": [],
   "source": [
    "help('pandas.read_csv')"
   ]
  },
  {
   "cell_type": "markdown",
   "id": "fced1cc0",
   "metadata": {},
   "source": [
    "# 4. Python basics (following Ch 1 of Python Workshop textbook)"
   ]
  },
  {
   "cell_type": "markdown",
   "id": "25305392",
   "metadata": {},
   "source": [
    "## 4.1 Basic math operations"
   ]
  },
  {
   "cell_type": "code",
   "execution_count": null,
   "id": "295afb2f",
   "metadata": {},
   "outputs": [],
   "source": [
    "#run these basic examples on your machine\n",
    "5+2\n",
    "5-2\n",
    "5*2\n",
    "5/2\n",
    "5//2 #integer division\n",
    "5**2 #5 squared\n",
    "5%2 #modulus"
   ]
  },
  {
   "cell_type": "code",
   "execution_count": null,
   "id": "db67e7d8",
   "metadata": {},
   "outputs": [],
   "source": [
    "#remember your order of operations (when in doubt, use parentheses)\n",
    "(100 - 5 ** 3) / 5\n",
    "6 + 15 % 4 \n",
    "2 ** 2 + 24 // 4"
   ]
  },
  {
   "cell_type": "code",
   "execution_count": null,
   "id": "bcace07e",
   "metadata": {},
   "outputs": [],
   "source": [
    "#spacing can improve readability (but doesn't change the meaning)\n",
    "6+5\n",
    "6 + 5"
   ]
  },
  {
   "cell_type": "markdown",
   "id": "e42fcb38",
   "metadata": {},
   "source": [
    "## 4.2 Integer vs. float"
   ]
  },
  {
   "cell_type": "code",
   "execution_count": null,
   "id": "7e4fc4a8",
   "metadata": {},
   "outputs": [],
   "source": [
    "type(6)\n",
    "type(6.0)"
   ]
  },
  {
   "cell_type": "code",
   "execution_count": null,
   "id": "48ee0f7b",
   "metadata": {},
   "outputs": [],
   "source": [
    "#what happens when you add an int and float?\n",
    "5 + 3.14\n",
    "type(5 + 3.14)"
   ]
  },
  {
   "cell_type": "code",
   "execution_count": null,
   "id": "3097474b",
   "metadata": {},
   "outputs": [],
   "source": [
    "#convert to different types\n",
    "int(7.99999999)\n",
    "float(6)"
   ]
  },
  {
   "cell_type": "markdown",
   "id": "44205ca6",
   "metadata": {},
   "source": [
    "## 4.3 Complex numbers"
   ]
  },
  {
   "cell_type": "code",
   "execution_count": null,
   "id": "33183e5c",
   "metadata": {},
   "outputs": [],
   "source": [
    "#Python uses j instead of i to represent sqrt(-1)\n",
    "(2 + 3j)/(1 - 5j)"
   ]
  },
  {
   "cell_type": "markdown",
   "id": "15ab0e9d",
   "metadata": {},
   "source": [
    "## 4.4 Variables"
   ]
  },
  {
   "cell_type": "code",
   "execution_count": null,
   "id": "eb2fc3e7",
   "metadata": {},
   "outputs": [],
   "source": [
    "x = 2\n",
    "x + 1"
   ]
  },
  {
   "cell_type": "code",
   "execution_count": null,
   "id": "7261d342",
   "metadata": {},
   "outputs": [],
   "source": [
    "x = 3.0\n",
    "x + 1"
   ]
  },
  {
   "cell_type": "code",
   "execution_count": null,
   "id": "8b2c2cba",
   "metadata": {},
   "outputs": [],
   "source": [
    "#python is dynamically typed (vs. unchanging types)\n",
    "y = 10\n",
    "y = y - 10.0\n",
    "type(y)"
   ]
  },
  {
   "cell_type": "markdown",
   "id": "f9963376",
   "metadata": {},
   "source": [
    "### 4.4.1 Reassigning variables in terms of themselves"
   ]
  },
  {
   "cell_type": "code",
   "execution_count": null,
   "id": "384c4644",
   "metadata": {},
   "outputs": [],
   "source": [
    "x = 3\n",
    "x = x + 1\n",
    "x\n",
    "\n",
    "x = 3\n",
    "x += 1\n",
    "x\n",
    "\n",
    "x = 3\n",
    "x -= 1\n",
    "x\n",
    "\n",
    "x = 3\n",
    "x *= 5\n",
    "x"
   ]
  },
  {
   "cell_type": "code",
   "execution_count": null,
   "id": "31389c2c",
   "metadata": {},
   "outputs": [],
   "source": [
    "# variables can not start with numbers, special characters, keywords, nor built-in types\n",
    "$&^city = 5"
   ]
  },
  {
   "cell_type": "code",
   "execution_count": null,
   "id": "9ef772e3",
   "metadata": {},
   "outputs": [],
   "source": [
    "# variables cannot contain spaces between characters\n",
    "best city = 'College Station'"
   ]
  },
  {
   "cell_type": "code",
   "execution_count": null,
   "id": "81588966",
   "metadata": {},
   "outputs": [],
   "source": [
    "# keywords to avoid when naming variables (Python will throw an error)\n",
    "import keyword\n",
    "print(keyword.kwlist)"
   ]
  },
  {
   "cell_type": "code",
   "execution_count": null,
   "id": "3a27dcc1",
   "metadata": {},
   "outputs": [],
   "source": [
    "# underscores are helpful\n",
    "best_city = 'College Station'\n",
    "best_city"
   ]
  },
  {
   "cell_type": "markdown",
   "id": "9778ec11",
   "metadata": {},
   "source": [
    "### 4.4.2 Declaring multiple variables (the Pythonic way)"
   ]
  },
  {
   "cell_type": "code",
   "execution_count": null,
   "id": "0e6e7c9e",
   "metadata": {},
   "outputs": [],
   "source": [
    "x, y, z = 8, 5, 'cat'\n",
    "x\n",
    "y\n",
    "z"
   ]
  },
  {
   "cell_type": "markdown",
   "id": "256bbc1c",
   "metadata": {},
   "source": [
    "## 4.5 Docstrings vs. comments"
   ]
  },
  {
   "cell_type": "code",
   "execution_count": null,
   "id": "96d82a8c",
   "metadata": {},
   "outputs": [],
   "source": [
    "# this is a comment\n",
    "\"\"\"\n",
    "Docstrings are like comments in that nothing happens when\n",
    "you execute this cell.  However, they are typically used \n",
    "when developers want to provide a description on what\n",
    "a particular 'document' (e.g. program, function, class, etc.)\n",
    "actually does.  These descriptions typically span\n",
    "multiple lines vs. comments which typically span one line.\n",
    "\"\"\""
   ]
  },
  {
   "cell_type": "markdown",
   "id": "36371452",
   "metadata": {},
   "source": [
    "## 4.6 Strings"
   ]
  },
  {
   "cell_type": "code",
   "execution_count": null,
   "id": "6b3fa0a6",
   "metadata": {},
   "outputs": [],
   "source": [
    "bookstore = 'City Lights'\n",
    "bookstore\n",
    "bookstore = \"City Lights\"\n",
    "bookstore"
   ]
  },
  {
   "cell_type": "code",
   "execution_count": null,
   "id": "e2c1028c",
   "metadata": {},
   "outputs": [],
   "source": [
    "#be consistent!\n",
    "bookstore = 'City Lights\""
   ]
  },
  {
   "cell_type": "code",
   "execution_count": null,
   "id": "039077f3",
   "metadata": {},
   "outputs": [],
   "source": [
    "#strings with apostrophes\n",
    "bookstore = 'Moe's'"
   ]
  },
  {
   "cell_type": "code",
   "execution_count": null,
   "id": "722041d4",
   "metadata": {},
   "outputs": [],
   "source": [
    "bookstore = \"Moe's\"\n",
    "bookstore"
   ]
  },
  {
   "cell_type": "code",
   "execution_count": null,
   "id": "5062d853",
   "metadata": {},
   "outputs": [],
   "source": [
    "bookstore = 'Moe\\'s'\n",
    "bookstore"
   ]
  },
  {
   "cell_type": "markdown",
   "id": "505b3590",
   "metadata": {},
   "source": [
    "### 4.6.1 Multi line strings"
   ]
  },
  {
   "cell_type": "code",
   "execution_count": null,
   "id": "dde4e3bb",
   "metadata": {},
   "outputs": [],
   "source": [
    "vacation_note = \"\"\"\n",
    "During our vacation to San Francisco, we\n",
    "waiting in a long line by Powell St. Station\n",
    "to take the cable car.\n",
    "\n",
    "Tap dancers performed on wooden boards.\n",
    "\n",
    "We started to look for a good place to eat\n",
    "when the cable car arrived.\n",
    "\"\"\"\n",
    "vacation_note\n",
    "#notice the escape sequences denoting the line breaks (\\n)\n",
    "\n",
    "print(vacation_note)"
   ]
  },
  {
   "cell_type": "markdown",
   "id": "299c22a2",
   "metadata": {},
   "source": [
    "### 4.6.2 String concatenation"
   ]
  },
  {
   "cell_type": "code",
   "execution_count": null,
   "id": "d4884efe",
   "metadata": {},
   "outputs": [],
   "source": [
    "greeting = 'Howdy'\n",
    "print(greeting + 'Sir.')\n",
    "greeting = 'Howdy '\n",
    "print(greeting + 'Sir.')\n",
    "print(greeting * 5)\n"
   ]
  },
  {
   "cell_type": "markdown",
   "id": "5071b537",
   "metadata": {},
   "source": [
    "### 4.6.3 String interpolation"
   ]
  },
  {
   "cell_type": "code",
   "execution_count": null,
   "id": "ccc6d570",
   "metadata": {},
   "outputs": [],
   "source": [
    "greeting = 'Howdy'\n",
    "print('Should we greet people with', greeting, 'in College Station?')"
   ]
  },
  {
   "cell_type": "code",
   "execution_count": null,
   "id": "1d83f852",
   "metadata": {},
   "outputs": [],
   "source": [
    "owner = 'Lawrence Ferlinghetti'\n",
    "age = 100\n",
    "print('The founder of City Lights Bookstore, {}, is now {} years old.'.format(owner,age))"
   ]
  },
  {
   "cell_type": "markdown",
   "id": "675bc1e9",
   "metadata": {},
   "source": [
    "### 4.6.4 Built-in string functions"
   ]
  },
  {
   "cell_type": "code",
   "execution_count": null,
   "id": "e8b5ea04",
   "metadata": {},
   "outputs": [],
   "source": [
    "len(greeting)"
   ]
  },
  {
   "cell_type": "code",
   "execution_count": null,
   "id": "686b7701",
   "metadata": {},
   "outputs": [],
   "source": [
    "#use tab completion to find variables\n",
    "#type len(g then hit the tab button\n",
    "#type greeting. then hit the tab button"
   ]
  },
  {
   "cell_type": "code",
   "execution_count": null,
   "id": "bc071aae",
   "metadata": {},
   "outputs": [],
   "source": [
    "greeting.lower()\n",
    "greeting.upper()\n",
    "greeting.endswith('y')\n",
    "greeting.count('w')"
   ]
  },
  {
   "cell_type": "markdown",
   "id": "ec8267f7",
   "metadata": {},
   "source": [
    "### 4.6.5 Casting"
   ]
  },
  {
   "cell_type": "code",
   "execution_count": null,
   "id": "10d6e628",
   "metadata": {},
   "outputs": [],
   "source": [
    "type('5')\n",
    "'5' + '7'\n",
    "int('5') + int('7')"
   ]
  },
  {
   "cell_type": "markdown",
   "id": "968c8ca7",
   "metadata": {},
   "source": [
    "### 4.6.6 Inputs from user"
   ]
  },
  {
   "cell_type": "code",
   "execution_count": null,
   "id": "b1d2c220",
   "metadata": {},
   "outputs": [],
   "source": [
    "print('What is your name?')\n",
    "name = input()\n",
    "print('Hello, ' + name + '.')\n",
    "#If an error arises, restart the kernel"
   ]
  },
  {
   "cell_type": "markdown",
   "id": "70c4bc47",
   "metadata": {},
   "source": [
    "### 4.6.7 String slicing and indexing"
   ]
  },
  {
   "cell_type": "code",
   "execution_count": null,
   "id": "918792d1",
   "metadata": {},
   "outputs": [],
   "source": [
    "#Python starts at 0 when indexing\n",
    "destination = 'College Station'\n",
    "destination[0]\n",
    "destination[1]\n",
    "destination[-1]\n",
    "destination[7]"
   ]
  },
  {
   "cell_type": "code",
   "execution_count": null,
   "id": "ee2899ff",
   "metadata": {},
   "outputs": [],
   "source": [
    "#Slicing\n",
    "destination[0:7]\n",
    "#Caution: lower bound of slice is always included, but upper bound is not!"
   ]
  },
  {
   "cell_type": "code",
   "execution_count": null,
   "id": "62760d8d",
   "metadata": {},
   "outputs": [],
   "source": [
    "#shortcut: omit the first numerical character to start at the beginning\n",
    "destination[:10]\n",
    "#shortcut: omit the last numerical character to go to the end and use a negative to specify how many before\n",
    "destination[-3:]"
   ]
  },
  {
   "cell_type": "markdown",
   "id": "8496f5b0",
   "metadata": {},
   "source": [
    "## 4.7 Booleans and conditionals"
   ]
  },
  {
   "cell_type": "code",
   "execution_count": null,
   "id": "8992d862",
   "metadata": {},
   "outputs": [],
   "source": [
    "over_18 = True\n",
    "type(over_18)"
   ]
  },
  {
   "cell_type": "code",
   "execution_count": null,
   "id": "74706b05",
   "metadata": {},
   "outputs": [],
   "source": [
    "over_21 = False\n",
    "over_21"
   ]
  },
  {
   "cell_type": "markdown",
   "id": "8b164b52",
   "metadata": {},
   "source": [
    "### 4.7.1 Logical operators"
   ]
  },
  {
   "cell_type": "code",
   "execution_count": null,
   "id": "274e3bdb",
   "metadata": {},
   "outputs": [],
   "source": [
    "over_18 and over_21\n",
    "over_18 or over_21\n",
    "not over_18\n",
    "not over_21 or (over_21 or over_18) #combine logical operators\n",
    "not (over_21 or (over_21 or over_18)) #parentheses matter"
   ]
  },
  {
   "cell_type": "markdown",
   "id": "b0b77e73",
   "metadata": {},
   "source": [
    "### 4.7.2 Comparison Operators"
   ]
  },
  {
   "cell_type": "code",
   "execution_count": null,
   "id": "44a21dca",
   "metadata": {},
   "outputs": [],
   "source": [
    "age = 20\n",
    "age < 13\n",
    "age >= 4\n",
    "age == 20\n",
    "age != 20\n",
    "age >= 20 and age <= 21 #combine with logical operators"
   ]
  },
  {
   "cell_type": "code",
   "execution_count": null,
   "id": "79aed142",
   "metadata": {},
   "outputs": [],
   "source": [
    "#equivalence can take place across different data types\n",
    "6 == 6.0 \n",
    "\n",
    "#but not always\n",
    "6 == '6'\n",
    "\n",
    "#pro tip: cast objects to be the same type before checking equivalence"
   ]
  },
  {
   "cell_type": "code",
   "execution_count": null,
   "id": "d421f760",
   "metadata": {},
   "outputs": [],
   "source": [
    "age=20\n",
    "\n",
    "#use parentheses for clarity\n",
    "(20 <= age < 30) or (30 <= age < 40)"
   ]
  },
  {
   "cell_type": "markdown",
   "id": "70263b91",
   "metadata": {},
   "source": [
    "### 4.7.3 Comparing strings"
   ]
  },
  {
   "cell_type": "code",
   "execution_count": null,
   "id": "10ee41c0",
   "metadata": {},
   "outputs": [],
   "source": [
    "#alphabetical order is used to compare strings\n",
    "'a' < 'c'\n",
    "'Austin' > 'College Station'"
   ]
  },
  {
   "cell_type": "markdown",
   "id": "64a766b7",
   "metadata": {},
   "source": [
    "### 4.7.4 Conditionals (if)"
   ]
  },
  {
   "cell_type": "code",
   "execution_count": null,
   "id": "3ac6e832",
   "metadata": {},
   "outputs": [],
   "source": [
    "age=20\n",
    "if age < 18:\n",
    "    print('You aren\\'t old enough to vote.')\n",
    "\n",
    "\"\"\"\n",
    "important features of the if statement:\n",
    "1) if keyword (start here)\n",
    "2) everything between the if keyword and the colon (:) is the condition to be checked\n",
    "3) colon(:) indicates the completion of the condition (compiler \n",
    "   then looks back to see if condition is true or false)\n",
    "4) everything that follows the colon MUST be indented\n",
    "\"\"\""
   ]
  },
  {
   "cell_type": "code",
   "execution_count": null,
   "id": "7771f704",
   "metadata": {},
   "outputs": [],
   "source": [
    "#indentation matters (generally can be accomplished with 4 spaces or the tab key)\n",
    "age=20\n",
    "if age < 18:\n",
    "print('You aren\\'t old enough to vote.')"
   ]
  },
  {
   "cell_type": "code",
   "execution_count": null,
   "id": "accae49d",
   "metadata": {},
   "outputs": [],
   "source": [
    "#indentation matters (generally can be accomplished with 4 spaces or the tab key)\n",
    "age=20\n",
    "if age < 18:\n",
    "    print('You aren\\'t old enough to vote.')"
   ]
  },
  {
   "cell_type": "code",
   "execution_count": null,
   "id": "95580c90",
   "metadata": {},
   "outputs": [],
   "source": [
    "#Nested conditionals with more indentation\n",
    "age=20\n",
    "if age >=18:\n",
    "    print('You can vote.')\n",
    "    if age >= 21:\n",
    "        print('You can play poker.')"
   ]
  },
  {
   "cell_type": "markdown",
   "id": "59a44dbc",
   "metadata": {},
   "source": [
    "### 4.7.5 Conditionals (if-else)"
   ]
  },
  {
   "cell_type": "code",
   "execution_count": null,
   "id": "d926afe0",
   "metadata": {},
   "outputs": [],
   "source": [
    "age=20\n",
    "if age >= 18:\n",
    "    print('Welcome to our voting program.')\n",
    "else:\n",
    "    print('You aren\\'t old enough to vote.')\n",
    "        "
   ]
  },
  {
   "cell_type": "markdown",
   "id": "fff9a3b3",
   "metadata": {},
   "source": [
    "### 4.7.6 Conditionals (elif)"
   ]
  },
  {
   "cell_type": "code",
   "execution_count": null,
   "id": "bbd25d5e",
   "metadata": {},
   "outputs": [],
   "source": [
    "#sort for else if\n",
    "age=20\n",
    "if age <= 10:\n",
    "    print('Listen, learn, and have fun.')\n",
    "elif age <= 19:\n",
    "    print('Go fearlessly forward.')\n",
    "else:\n",
    "    print('Each day is magical.')"
   ]
  },
  {
   "cell_type": "markdown",
   "id": "7a952b28",
   "metadata": {},
   "source": [
    "## 4.8 Loops"
   ]
  },
  {
   "cell_type": "markdown",
   "id": "38749a1b",
   "metadata": {},
   "source": [
    "### 4.8.1 While loops"
   ]
  },
  {
   "cell_type": "code",
   "execution_count": null,
   "id": "08f0dd16",
   "metadata": {},
   "outputs": [],
   "source": [
    "# while loop example\n",
    "i = 1 # initialize the variable\n",
    "while i <= 10: #set up the condition that must be met for the loop to run\n",
    "    print(i) #specify what should be done if the condition is met\n",
    "    i += 1 #increment the variable\n",
    "    \n",
    "# Note: you will get stuck in infinite loops.  It happens to everyone.  When this happens,\n",
    "# just restart the kernel."
   ]
  },
  {
   "cell_type": "markdown",
   "id": "07246980",
   "metadata": {},
   "source": [
    "### 4.8.2 Breaks"
   ]
  },
  {
   "cell_type": "code",
   "execution_count": null,
   "id": "e6211906",
   "metadata": {},
   "outputs": [],
   "source": [
    "x=100\n",
    "while x <= 1000:\n",
    "    x += 1\n",
    "    if x % 17 == 0:\n",
    "        print('', x, 'is the first number greater than 100 that is divisible by 17.')\n",
    "        break"
   ]
  },
  {
   "cell_type": "markdown",
   "id": "0dc82521",
   "metadata": {},
   "source": [
    "### 4.8.3 Exercise 19: The Real Estate Offer"
   ]
  },
  {
   "cell_type": "code",
   "execution_count": null,
   "id": "0b3519e6",
   "metadata": {},
   "outputs": [],
   "source": [
    "print('A one bedroom in the Bay Area is listed at $599,000.')\n",
    "print('Enter your first offer on the house.')\n",
    "offer = abs(int(input()))\n",
    "print('Enter your best offer on the house.')\n",
    "best = abs(int(input()))\n",
    "print('How much more do you want to offer each time?')\n",
    "increment = abs(int(input()))\n",
    "\n",
    "offer_accepted = False\n",
    "while offer <= best:\n",
    "    if offer >= 650000:\n",
    "        offer_accepted = True\n",
    "        print('Your offer of', offer, 'has been accepted!')\n",
    "        break\n",
    "    else:\n",
    "        print('We\\'re sorry, you\\'re offer of',offer,'has not been accepted.')\n",
    "        offer += increment\n"
   ]
  },
  {
   "cell_type": "markdown",
   "id": "b0351b38",
   "metadata": {},
   "source": [
    "### 4.8.4 For loops"
   ]
  },
  {
   "cell_type": "code",
   "execution_count": null,
   "id": "456e2c0e",
   "metadata": {},
   "outputs": [],
   "source": [
    "for i in 'Bryan':\n",
    "    print(i)"
   ]
  },
  {
   "cell_type": "code",
   "execution_count": null,
   "id": "42a7e5dd",
   "metadata": {},
   "outputs": [],
   "source": [
    "for i in range(1,10):\n",
    "    print(i)\n",
    "#notice the range doesn't include 10"
   ]
  },
  {
   "cell_type": "code",
   "execution_count": null,
   "id": "54fe5675",
   "metadata": {},
   "outputs": [],
   "source": [
    "for i in range(10):\n",
    "    print(i)\n",
    "#providing only 1 argument to range uses 0 to start and gives the first 10 numbers"
   ]
  },
  {
   "cell_type": "code",
   "execution_count": null,
   "id": "0c1e1d57",
   "metadata": {},
   "outputs": [],
   "source": [
    "for i in range(1,11,2):\n",
    "    print(i)\n",
    "#the third argument is the increment"
   ]
  },
  {
   "cell_type": "code",
   "execution_count": null,
   "id": "5e0ea5cb",
   "metadata": {},
   "outputs": [],
   "source": [
    "for i in range(3,0,-1):\n",
    "    print(i)\n",
    "#increments can be negative"
   ]
  },
  {
   "cell_type": "markdown",
   "id": "590617df",
   "metadata": {},
   "source": [
    "### The continue keyword"
   ]
  },
  {
   "cell_type": "code",
   "execution_count": null,
   "id": "412f39ab",
   "metadata": {},
   "outputs": [],
   "source": [
    "#used to interrupt the instructions provided in the loop and return to the beginning of the loop\n",
    "for num in range(10,100):\n",
    "    if num % 2 == 0:\n",
    "        continue\n",
    "    if num % 3 == 0:\n",
    "        continue\n",
    "    if num % 5 == 0:\n",
    "        continue\n",
    "    if num % 7 == 0:\n",
    "        continue\n",
    "    print(num)\n",
    "    #what is the output from this loop?"
   ]
  }
 ],
 "metadata": {
  "kernelspec": {
   "display_name": "Python 3 (ipykernel)",
   "language": "python",
   "name": "python3"
  },
  "language_info": {
   "codemirror_mode": {
    "name": "ipython",
    "version": 3
   },
   "file_extension": ".py",
   "mimetype": "text/x-python",
   "name": "python",
   "nbconvert_exporter": "python",
   "pygments_lexer": "ipython3",
   "version": "3.10.9"
  }
 },
 "nbformat": 4,
 "nbformat_minor": 5
}
